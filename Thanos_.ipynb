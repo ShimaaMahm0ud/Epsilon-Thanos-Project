{
 "cells": [
  {
   "cell_type": "markdown",
   "metadata": {},
   "source": [
    "<img src=\"thanos.jpg\">"
   ]
  },
  {
   "cell_type": "markdown",
   "metadata": {},
   "source": [
    "# Thanos Project\n",
    "\n",
    "##### Thanos has aqcuired the infinity gauntlet, and with one snap of his fingers he will kill half the people in the universe. For this project, you need to create the following functions:\n",
    "\n",
    "1. `get_universe_people`: This function returns a list of the name of the people (files) in `universe` folder\n",
    "2. `kill_person`: This function takes as input the name of the person (file) and kills them (deletes it) \n",
    "3. `thanos_snap`: This function calculates the number of the people (files) in the `universe` folder and kills them (deletes them)\n",
    "\n",
    "Test your functions using the necessary code and run the thanos snap. Validate that half the population is dead!"
   ]
  },
  {
   "cell_type": "markdown",
   "metadata": {},
   "source": []
  },
  {
   "cell_type": "code",
   "execution_count": null,
   "metadata": {},
   "outputs": [],
   "source": [
    "import os\n",
    "import random\n",
    "\n",
    "def get_universe_people():\n",
    "    people = os.listdir(\"parallel_backup\")\n",
    "    return people\n"
   ]
  },
  {
   "cell_type": "code",
   "execution_count": null,
   "metadata": {},
   "outputs": [],
   "source": [
    "def kill_person(name):\n",
    "    print(f\"killing {name}\")\n",
    "    os.remove(\"parallel_backup//\" + name)"
   ]
  },
  {
   "cell_type": "code",
   "execution_count": null,
   "metadata": {},
   "outputs": [],
   "source": [
    "import time\n",
    "\n",
    "def thanos_snap():\n",
    "    #get all people in universe\n",
    "    people = get_universe_people()\n",
    "\n",
    "    # calculate hoe many to kil (half)\n",
    "    half_universe = len(people) // 2 \n",
    "\n",
    "    for i in range(half_universe):\n",
    "        person = random.choice(people)\n",
    "        kill_person(person)\n",
    "        people.remove(person)\n",
    "        time.sleep(1)\n",
    "    \n",
    "    print(\"Perfectly balanced, like all things should be.\")"
   ]
  }
 ],
 "metadata": {
  "kernelspec": {
   "display_name": "Python 3.10.4 64-bit",
   "language": "python",
   "name": "python3"
  },
  "language_info": {
   "name": "python",
   "version": "3.10.4"
  },
  "orig_nbformat": 4,
  "vscode": {
   "interpreter": {
    "hash": "4000d5fabbf16d46b8685b20ddb4f1205c9618754029a947dbb2cc2ce311cc0f"
   }
  }
 },
 "nbformat": 4,
 "nbformat_minor": 2
}
